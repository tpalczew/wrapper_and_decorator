{
 "cells": [
  {
   "cell_type": "code",
   "execution_count": 4,
   "metadata": {},
   "outputs": [
    {
     "name": "stdout",
     "output_type": "stream",
     "text": [
      "bla bla bla before we use some function\n",
      "This is from the wrapped function\n",
      "and something after\n"
     ]
    }
   ],
   "source": [
    "def my_decorator(some_function):\n",
    "    def wrapper():\n",
    "        \n",
    "        print(\"bla bla bla before we use some function\")\n",
    "        some_function()\n",
    "        print(\"and something after\")\n",
    "    return wrapper\n",
    "\n",
    "def bla_function():\n",
    "    print(\"This is from the wrapped function\")\n",
    "    \n",
    "    \n",
    "fun = my_decorator(bla_function)\n",
    "fun()"
   ]
  },
  {
   "cell_type": "code",
   "execution_count": 5,
   "metadata": {},
   "outputs": [
    {
     "name": "stdout",
     "output_type": "stream",
     "text": [
      "bla bla bla before we use some function\n",
      "It's the same as fun = my_decorator(bla_function2)\n",
      "and something after\n"
     ]
    }
   ],
   "source": [
    "@my_decorator\n",
    "def bla_function2():\n",
    "    print(\"It's the same as fun = my_decorator(bla_function2)\")\n",
    "\n",
    "bla_function2()"
   ]
  },
  {
   "cell_type": "code",
   "execution_count": null,
   "metadata": {},
   "outputs": [],
   "source": [
    "# sleep_decorator - just to add sleep as we all are tired sometime and need to rest"
   ]
  },
  {
   "cell_type": "code",
   "execution_count": 6,
   "metadata": {},
   "outputs": [
    {
     "name": "stdout",
     "output_type": "stream",
     "text": [
      "120\n",
      "1\n",
      "2\n",
      "3\n",
      "4\n"
     ]
    }
   ],
   "source": [
    "from time import sleep\n",
    "\n",
    "def sleep_decorator(function):\n",
    "    def wrapper(*args, **kwargs):\n",
    "        sleep(2)\n",
    "        return function(*args, **kwargs)\n",
    "    return wrapper\n",
    "\n",
    "@sleep_decorator\n",
    "def print_number(num):\n",
    "    return num\n",
    "\n",
    "print(print_number(120))\n",
    "\n",
    "for num in range(1, 5):\n",
    "    print(print_number(num))"
   ]
  }
 ],
 "metadata": {
  "kernelspec": {
   "display_name": "Python 3",
   "language": "python",
   "name": "python3"
  },
  "language_info": {
   "codemirror_mode": {
    "name": "ipython",
    "version": 3
   },
   "file_extension": ".py",
   "mimetype": "text/x-python",
   "name": "python",
   "nbconvert_exporter": "python",
   "pygments_lexer": "ipython3",
   "version": "3.6.5"
  }
 },
 "nbformat": 4,
 "nbformat_minor": 2
}
